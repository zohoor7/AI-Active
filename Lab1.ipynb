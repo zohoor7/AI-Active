{
 "cells": [
  {
   "cell_type": "code",
   "execution_count": 126,
   "id": "021291ef-5330-4c3f-9d99-b32241501e86",
   "metadata": {},
   "outputs": [
    {
     "name": "stdout",
     "output_type": "stream",
     "text": [
      "Python 3.11.7\n"
     ]
    }
   ],
   "source": [
    "!python --version"
   ]
  },
  {
   "cell_type": "markdown",
   "id": "62f9b10b-aed3-4e13-b41f-b9255127bc03",
   "metadata": {},
   "source": [
    "this is the first script the dip"
   ]
  },
  {
   "cell_type": "code",
   "execution_count": 128,
   "id": "91991187-6ccd-4b8c-a502-01a1cab82a41",
   "metadata": {},
   "outputs": [
    {
     "name": "stdout",
     "output_type": "stream",
     "text": [
      "3\n"
     ]
    }
   ],
   "source": [
    "x = 3 #Assigning\n",
    "print(x)"
   ]
  },
  {
   "cell_type": "code",
   "execution_count": 129,
   "id": "dd5c04dc-9666-429a-9070-64ccc84a2cf5",
   "metadata": {},
   "outputs": [
    {
     "name": "stdout",
     "output_type": "stream",
     "text": [
      "<class 'int'>\n"
     ]
    }
   ],
   "source": [
    "print(type(x))"
   ]
  },
  {
   "cell_type": "code",
   "execution_count": 130,
   "id": "8ef499ff-7eba-4ddc-8012-6ac1230e9ec1",
   "metadata": {},
   "outputs": [
    {
     "name": "stdout",
     "output_type": "stream",
     "text": [
      "4\n"
     ]
    }
   ],
   "source": [
    "print(x + 1) #Addition"
   ]
  },
  {
   "cell_type": "code",
   "execution_count": 131,
   "id": "a8c35b00-296d-4060-9f03-e123fbafd7cc",
   "metadata": {},
   "outputs": [
    {
     "name": "stdout",
     "output_type": "stream",
     "text": [
      "3\n"
     ]
    }
   ],
   "source": [
    "print(x)"
   ]
  },
  {
   "cell_type": "code",
   "execution_count": 132,
   "id": "164b73f2-6682-4c78-94ec-770515b9f7b0",
   "metadata": {},
   "outputs": [
    {
     "name": "stdout",
     "output_type": "stream",
     "text": [
      "2\n"
     ]
    }
   ],
   "source": [
    "print(x -1) #SUBTRACTION"
   ]
  },
  {
   "cell_type": "code",
   "execution_count": 133,
   "id": "8fa39559-d04f-482d-a641-0d3939eb8e0b",
   "metadata": {},
   "outputs": [
    {
     "name": "stdout",
     "output_type": "stream",
     "text": [
      "6\n",
      "9\n"
     ]
    }
   ],
   "source": [
    "print(x * 2) #Multiplication\n",
    "print(x **2) #Exponentiation"
   ]
  },
  {
   "cell_type": "code",
   "execution_count": 134,
   "id": "3ba57710-e3ea-4f0d-a2c3-8c1173dc5751",
   "metadata": {},
   "outputs": [
    {
     "name": "stdout",
     "output_type": "stream",
     "text": [
      "4\n"
     ]
    }
   ],
   "source": [
    "x = x+1 #Assigning\n",
    "\n",
    "print(x)"
   ]
  },
  {
   "cell_type": "markdown",
   "id": "6aef2641-6d84-491e-9cab-187ddebd436c",
   "metadata": {},
   "source": [
    "تتغير معي الساينق كل ما رنيت عليها وعشان ما يضيع عندنا القيمة نسوي متغير مختلف "
   ]
  },
  {
   "cell_type": "code",
   "execution_count": 136,
   "id": "d776ed8f-e016-4c0b-a8ec-346c5adb73f3",
   "metadata": {},
   "outputs": [
    {
     "name": "stdout",
     "output_type": "stream",
     "text": [
      "4\n",
      "5\n"
     ]
    }
   ],
   "source": [
    "y = x+1\n",
    "print(x)\n",
    "print(y)"
   ]
  },
  {
   "cell_type": "code",
   "execution_count": 137,
   "id": "76f18ca0-1459-4059-851b-2710b97ad235",
   "metadata": {},
   "outputs": [
    {
     "name": "stdout",
     "output_type": "stream",
     "text": [
      "5\n"
     ]
    }
   ],
   "source": [
    "# x = x+1\n",
    "x +=1\n",
    "print(x)"
   ]
  },
  {
   "cell_type": "code",
   "execution_count": 138,
   "id": "b5463b2f-03eb-48e6-b0e1-a270220c4812",
   "metadata": {},
   "outputs": [
    {
     "name": "stdout",
     "output_type": "stream",
     "text": [
      "10\n"
     ]
    }
   ],
   "source": [
    "# x = x*2\n",
    "x *=2\n",
    "print(x)"
   ]
  },
  {
   "cell_type": "code",
   "execution_count": 139,
   "id": "25fd66fd-2b89-41eb-8d3d-178ffc0f7f7f",
   "metadata": {},
   "outputs": [
    {
     "name": "stdout",
     "output_type": "stream",
     "text": [
      "2.5\n",
      "<class 'float'>\n"
     ]
    }
   ],
   "source": [
    "y = 2.5\n",
    "print(y)\n",
    "print(type(y))"
   ]
  },
  {
   "cell_type": "code",
   "execution_count": 140,
   "id": "6b19c0ee-099d-4aae-b2ef-b97ad5c11772",
   "metadata": {},
   "outputs": [
    {
     "name": "stdout",
     "output_type": "stream",
     "text": [
      "2.5 3.5 5.0 6.25\n"
     ]
    }
   ],
   "source": [
    "print(y, y+1,y *2,y **2)"
   ]
  },
  {
   "cell_type": "code",
   "execution_count": 141,
   "id": "e582a8f3-8889-433a-85b9-c7e94acc5a51",
   "metadata": {},
   "outputs": [],
   "source": [
    "#t = True\n",
    "#f = False\n"
   ]
  },
  {
   "cell_type": "code",
   "execution_count": 142,
   "id": "80f5abc6-d801-478f-83a9-8a27b3ab6f9c",
   "metadata": {},
   "outputs": [
    {
     "name": "stdout",
     "output_type": "stream",
     "text": [
      "<class 'bool'>\n",
      "False\n"
     ]
    }
   ],
   "source": [
    "t = True\n",
    "f = False\n",
    "t , f = True, False\n",
    "print(type(t))\n",
    "print(f)"
   ]
  },
  {
   "cell_type": "markdown",
   "id": "d05d81b1-ba0b-43bc-a8d9-1019d2df6eb0",
   "metadata": {},
   "source": [
    "Now we let's look at the operation"
   ]
  },
  {
   "cell_type": "code",
   "execution_count": 144,
   "id": "453c0aa3-d147-4a50-a0a5-5553db4ca734",
   "metadata": {},
   "outputs": [
    {
     "name": "stdout",
     "output_type": "stream",
     "text": [
      "False\n"
     ]
    }
   ],
   "source": [
    "print(t and f) #logical AND;"
   ]
  },
  {
   "cell_type": "code",
   "execution_count": 145,
   "id": "29f39b08-c761-4eb8-9565-8879dcd86ce3",
   "metadata": {},
   "outputs": [
    {
     "name": "stdout",
     "output_type": "stream",
     "text": [
      "False\n"
     ]
    }
   ],
   "source": [
    "print(t == f) # does t equal f "
   ]
  },
  {
   "cell_type": "code",
   "execution_count": 146,
   "id": "132239ad-7d30-44ea-aceb-747d2d4e7689",
   "metadata": {},
   "outputs": [
    {
     "name": "stdout",
     "output_type": "stream",
     "text": [
      "True\n"
     ]
    }
   ],
   "source": [
    "print (t != f) #logical XOR "
   ]
  },
  {
   "cell_type": "code",
   "execution_count": 147,
   "id": "b7090574-4808-4932-a5a3-b286539c3bb3",
   "metadata": {},
   "outputs": [],
   "source": [
    "t == f # logical question answer true , false \n",
    "t = True #Assigning "
   ]
  },
  {
   "cell_type": "code",
   "execution_count": 148,
   "id": "1d7fb76d-ffc8-4d00-a7cc-2a6ec5eeb7e3",
   "metadata": {},
   "outputs": [
    {
     "name": "stdout",
     "output_type": "stream",
     "text": [
      "True\n"
     ]
    }
   ],
   "source": [
    "print((t != f) and (t)) #two condtion "
   ]
  },
  {
   "cell_type": "code",
   "execution_count": 149,
   "id": "a51a960a-3e99-45b3-a300-685fbea5c686",
   "metadata": {},
   "outputs": [
    {
     "name": "stdout",
     "output_type": "stream",
     "text": [
      "zohoor\n"
     ]
    }
   ],
   "source": [
    "name = 'zohoor'\n",
    "print (name)"
   ]
  },
  {
   "cell_type": "code",
   "execution_count": 150,
   "id": "db6007a4-c1a0-435e-b670-85d87ad01da1",
   "metadata": {},
   "outputs": [
    {
     "name": "stdout",
     "output_type": "stream",
     "text": [
      "hello 5\n"
     ]
    }
   ],
   "source": [
    "hello = 'hello'\n",
    "word = \"word\" \n",
    "print(hello , len(hello))"
   ]
  },
  {
   "cell_type": "code",
   "execution_count": 151,
   "id": "ca9ee4f1-ef97-4ec0-85eb-a72e33ae208e",
   "metadata": {},
   "outputs": [
    {
     "name": "stdout",
     "output_type": "stream",
     "text": [
      "hello word\n"
     ]
    }
   ],
   "source": [
    "hw = hello + ' ' + word #string concatenation\n",
    "print(hw)"
   ]
  },
  {
   "cell_type": "code",
   "execution_count": 152,
   "id": "a43fa1a8-ec14-4e75-83b5-6fae65e5a574",
   "metadata": {},
   "outputs": [
    {
     "name": "stdout",
     "output_type": "stream",
     "text": [
      "hello wrld 12\n"
     ]
    }
   ],
   "source": [
    "hw12 = 'hello wrld 12'\n",
    "print(hw12)"
   ]
  },
  {
   "cell_type": "markdown",
   "id": "003d78ef-932e-4046-aecd-d12ff2f57589",
   "metadata": {},
   "source": [
    "task \n",
    "create tow variables \n",
    "first name \n",
    "last name \n",
    "\n",
    "save in another variable full name \n",
    "print full name "
   ]
  },
  {
   "cell_type": "code",
   "execution_count": 154,
   "id": "3add5ddf-075e-46dc-ae18-5f7d1c167080",
   "metadata": {},
   "outputs": [
    {
     "name": "stdout",
     "output_type": "stream",
     "text": [
      "zohoor awaji\n"
     ]
    }
   ],
   "source": [
    "first =\"zohoor\"\n",
    "list = 'awaji'\n",
    "print(zohoor , awaji)"
   ]
  },
  {
   "cell_type": "code",
   "execution_count": 155,
   "id": "aa8b9ddb-081c-44c7-acc3-634d1d736a6c",
   "metadata": {},
   "outputs": [
    {
     "name": "stdout",
     "output_type": "stream",
     "text": [
      "zohoor awaji\n"
     ]
    }
   ],
   "source": [
    "fullname = first + ' ' + list\n",
    "print(fullname)"
   ]
  },
  {
   "cell_type": "code",
   "execution_count": null,
   "id": "0708a072-4ddd-4588-8c8b-ce35acff8501",
   "metadata": {},
   "outputs": [],
   "source": []
  }
 ],
 "metadata": {
  "kernelspec": {
   "display_name": "Python 3 (ipykernel)",
   "language": "python",
   "name": "python3"
  },
  "language_info": {
   "codemirror_mode": {
    "name": "ipython",
    "version": 3
   },
   "file_extension": ".py",
   "mimetype": "text/x-python",
   "name": "python",
   "nbconvert_exporter": "python",
   "pygments_lexer": "ipython3",
   "version": "3.11.7"
  }
 },
 "nbformat": 4,
 "nbformat_minor": 5
}
